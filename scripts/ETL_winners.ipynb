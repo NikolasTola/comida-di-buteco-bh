{
 "cells": [
  {
   "cell_type": "code",
   "execution_count": 1,
   "metadata": {},
   "outputs": [],
   "source": [
    "import requests\n",
    "from bs4 import BeautifulSoup\n",
    "import pandas as pd"
   ]
  },
  {
   "cell_type": "code",
   "execution_count": 2,
   "metadata": {},
   "outputs": [],
   "source": [
    "winners_page = requests.get('https://comidadibuteco.com.br/vencedores/belo-horizonte/')\n",
    "\n",
    "html_winners_page = BeautifulSoup(winners_page.text, 'html.parser')"
   ]
  },
  {
   "cell_type": "code",
   "execution_count": null,
   "metadata": {},
   "outputs": [],
   "source": [
    "last_winners_section = html_winners_page.find('section', class_='last-winners-wrap')\n",
    "last_winners_list = []\n",
    "\n",
    "for i in range(5): # 5 Winners in the last year\n",
    "\n",
    "    winners_name = last_winners_section.find('div', class_=f'item item-{i+1}')\n",
    "    \n",
    "    position = winners_name.find('h2', class_='item-number').text[0]\n",
    "    restaurant_name = winners_name.find('h3', class_='item-title').text\n",
    "\n",
    "    last_winners_list.append(('2024', position, restaurant_name))"
   ]
  },
  {
   "cell_type": "code",
   "execution_count": 25,
   "metadata": {},
   "outputs": [],
   "source": [
    "other_winners_section = html_winners_page.find('section', class_='other-winners')\n",
    "other_winners_list = []\n",
    "\n",
    "div_other_winners = other_winners_section.find_all('div', class_='col-12 col-md-4 mb-5')\n",
    "\n",
    "for div in div_other_winners:\n",
    "\n",
    "    year = div.find('h3', class_='year').text\n",
    "    \n",
    "    winners_box = div.find('div', class_='box-vencedores')\n",
    "\n",
    "    ul_list = winners_box.find_all('ul')\n",
    "\n",
    "    for ul in ul_list:\n",
    "        li = ul.find('li')\n",
    "        position = li.text[0]\n",
    "        restaurant_name = ul.find('strong').text\n",
    "        \n",
    "        other_winners_list.append((year, position, restaurant_name))"
   ]
  },
  {
   "cell_type": "code",
   "execution_count": 31,
   "metadata": {},
   "outputs": [],
   "source": [
    "winners_list = last_winners_list + other_winners_list"
   ]
  },
  {
   "cell_type": "code",
   "execution_count": 28,
   "metadata": {},
   "outputs": [
    {
     "data": {
      "text/html": [
       "<div>\n",
       "<style scoped>\n",
       "    .dataframe tbody tr th:only-of-type {\n",
       "        vertical-align: middle;\n",
       "    }\n",
       "\n",
       "    .dataframe tbody tr th {\n",
       "        vertical-align: top;\n",
       "    }\n",
       "\n",
       "    .dataframe thead th {\n",
       "        text-align: right;\n",
       "    }\n",
       "</style>\n",
       "<table border=\"1\" class=\"dataframe\">\n",
       "  <thead>\n",
       "    <tr style=\"text-align: right;\">\n",
       "      <th></th>\n",
       "      <th>STATE</th>\n",
       "      <th>CITY</th>\n",
       "      <th>YEAR</th>\n",
       "      <th>POSITION</th>\n",
       "      <th>RESTAURANT_NAME</th>\n",
       "    </tr>\n",
       "  </thead>\n",
       "  <tbody>\n",
       "  </tbody>\n",
       "</table>\n",
       "</div>"
      ],
      "text/plain": [
       "Empty DataFrame\n",
       "Columns: [STATE, CITY, YEAR, POSITION, RESTAURANT_NAME]\n",
       "Index: []"
      ]
     },
     "execution_count": 28,
     "metadata": {},
     "output_type": "execute_result"
    }
   ],
   "source": [
    "columns = {\n",
    "    \"STATE\": [],\n",
    "    \"CITY\": [],\n",
    "    \"YEAR\": [],\n",
    "    \"POSITION\": [],\n",
    "    \"RESTAURANT_NAME\": []\n",
    "}\n",
    "\n",
    "data_frame = pd.DataFrame(columns)\n",
    "data_frame"
   ]
  },
  {
   "cell_type": "code",
   "execution_count": 32,
   "metadata": {},
   "outputs": [],
   "source": [
    "for winner_tuple in winners_list:\n",
    "    # winner_tuple = (YEAR, POSITION, RESTAURANT_NAME)\n",
    "\n",
    "    new_element = {\n",
    "        \"STATE\": 'MG',\n",
    "        \"CITY\": 'Belo Horizonte',\n",
    "        \"YEAR\": winner_tuple[0],\n",
    "        \"POSITION\": winner_tuple[1],\n",
    "        \"RESTAURANT_NAME\": winner_tuple[2]\n",
    "    }\n",
    "\n",
    "    data_frame.loc[len(data_frame)] = new_element"
   ]
  },
  {
   "cell_type": "code",
   "execution_count": 33,
   "metadata": {},
   "outputs": [],
   "source": [
    "data_frame.to_excel('../data_bases/winners.xlsx', index=False, sheet_name='WINNERS')"
   ]
  }
 ],
 "metadata": {
  "kernelspec": {
   "display_name": ".venv",
   "language": "python",
   "name": "python3"
  },
  "language_info": {
   "codemirror_mode": {
    "name": "ipython",
    "version": 3
   },
   "file_extension": ".py",
   "mimetype": "text/x-python",
   "name": "python",
   "nbconvert_exporter": "python",
   "pygments_lexer": "ipython3",
   "version": "3.12.5"
  }
 },
 "nbformat": 4,
 "nbformat_minor": 2
}
