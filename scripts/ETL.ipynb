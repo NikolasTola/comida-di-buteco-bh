{
 "cells": [
  {
   "cell_type": "code",
   "execution_count": 68,
   "metadata": {},
   "outputs": [],
   "source": [
    "import requests\n",
    "from bs4 import BeautifulSoup\n",
    "import pandas as pd\n",
    "from libs.extract_hour import extract_hour"
   ]
  },
  {
   "cell_type": "code",
   "execution_count": 69,
   "metadata": {},
   "outputs": [],
   "source": [
    "main_page = requests.get('https://comidadibuteco.com.br/butecos/belo-horizonte/')\n",
    "\n",
    "html_main_page = BeautifulSoup(main_page.text, 'html.parser')\n",
    "\n",
    "pagination = html_main_page.find_all('ul', class_='pagination')"
   ]
  },
  {
   "cell_type": "code",
   "execution_count": 70,
   "metadata": {},
   "outputs": [],
   "source": [
    "index_1 = pagination[0].find_all('span')\n",
    "index_2 = pagination[0].find_all('a')\n",
    "\n",
    "index_list = index_1 + index_2"
   ]
  },
  {
   "cell_type": "code",
   "execution_count": 71,
   "metadata": {},
   "outputs": [
    {
     "data": {
      "text/plain": [
       "11"
      ]
     },
     "execution_count": 71,
     "metadata": {},
     "output_type": "execute_result"
    }
   ],
   "source": [
    "index_pages = []\n",
    "\n",
    "for index in index_list:\n",
    "    \n",
    "    text = index.text\n",
    "\n",
    "    if text.isdigit():\n",
    "\n",
    "        index_pages.append(int(text))\n",
    "\n",
    "num_pages = max(index_pages)\n",
    "num_pages"
   ]
  },
  {
   "cell_type": "code",
   "execution_count": 72,
   "metadata": {},
   "outputs": [],
   "source": [
    "current_page = requests.get(f'https://comidadibuteco.com.br/butecos/belo-horizonte/page/1/')\n",
    "html_current_page = BeautifulSoup(current_page.text, 'html.parser')\n",
    "\n",
    "links = html_current_page.find_all(\"a\", string=lambda text: text and text.strip() == \"Detalhes\")"
   ]
  },
  {
   "cell_type": "code",
   "execution_count": 73,
   "metadata": {},
   "outputs": [
    {
     "data": {
      "text/plain": [
       "125"
      ]
     },
     "execution_count": 73,
     "metadata": {},
     "output_type": "execute_result"
    }
   ],
   "source": [
    "restaurants_links = []\n",
    "\n",
    "for i in range(num_pages):\n",
    "    \n",
    "    i += 1\n",
    "    current_page = requests.get(f'https://comidadibuteco.com.br/butecos/belo-horizonte/page/{i}/')\n",
    "    html_current_page = BeautifulSoup(current_page.text, 'html.parser')\n",
    "\n",
    "    link_DETALHES = html_current_page.find_all(\"a\", string=lambda text: text and text.strip() == \"Detalhes\")\n",
    "\n",
    "    for link in link_DETALHES:\n",
    "        restaurants_links.append(link.get(\"href\"))\n",
    "\n",
    "len(restaurants_links)"
   ]
  },
  {
   "cell_type": "code",
   "execution_count": 74,
   "metadata": {},
   "outputs": [
    {
     "data": {
      "text/html": [
       "<div>\n",
       "<style scoped>\n",
       "    .dataframe tbody tr th:only-of-type {\n",
       "        vertical-align: middle;\n",
       "    }\n",
       "\n",
       "    .dataframe tbody tr th {\n",
       "        vertical-align: top;\n",
       "    }\n",
       "\n",
       "    .dataframe thead th {\n",
       "        text-align: right;\n",
       "    }\n",
       "</style>\n",
       "<table border=\"1\" class=\"dataframe\">\n",
       "  <thead>\n",
       "    <tr style=\"text-align: right;\">\n",
       "      <th></th>\n",
       "      <th>RESTAURANT_ID</th>\n",
       "      <th>RESTAURANT_NAME</th>\n",
       "      <th>MAIN_DISH</th>\n",
       "      <th>MAIN_DISH_DESC</th>\n",
       "      <th>STREET_NAME</th>\n",
       "      <th>EST_NUMBER</th>\n",
       "      <th>NEIGHBORHOOD</th>\n",
       "      <th>CITY</th>\n",
       "      <th>STATE</th>\n",
       "      <th>COMPLEMENT</th>\n",
       "      <th>PHONE_NUMBER</th>\n",
       "    </tr>\n",
       "  </thead>\n",
       "  <tbody>\n",
       "  </tbody>\n",
       "</table>\n",
       "</div>"
      ],
      "text/plain": [
       "Empty DataFrame\n",
       "Columns: [RESTAURANT_ID, RESTAURANT_NAME, MAIN_DISH, MAIN_DISH_DESC, STREET_NAME, EST_NUMBER, NEIGHBORHOOD, CITY, STATE, COMPLEMENT, PHONE_NUMBER]\n",
       "Index: []"
      ]
     },
     "execution_count": 74,
     "metadata": {},
     "output_type": "execute_result"
    }
   ],
   "source": [
    "main_columns = {\n",
    "    \"RESTAURANT_ID\": [],\n",
    "    \"RESTAURANT_NAME\": [],\n",
    "    \"MAIN_DISH\": [],\n",
    "    \"MAIN_DISH_DESC\": [],\n",
    "    \"STREET_NAME\": [],\n",
    "    \"EST_NUMBER\": [],\n",
    "    \"NEIGHBORHOOD\": [],\n",
    "    \"CITY\": [],\n",
    "    \"STATE\": [],\n",
    "    \"COMPLEMENT\": [],\n",
    "    \"PHONE_NUMBER\": []\n",
    "}\n",
    "\n",
    "df_MAIN = pd.DataFrame(main_columns)\n",
    "df_MAIN"
   ]
  },
  {
   "cell_type": "code",
   "execution_count": 75,
   "metadata": {},
   "outputs": [
    {
     "data": {
      "text/html": [
       "<div>\n",
       "<style scoped>\n",
       "    .dataframe tbody tr th:only-of-type {\n",
       "        vertical-align: middle;\n",
       "    }\n",
       "\n",
       "    .dataframe tbody tr th {\n",
       "        vertical-align: top;\n",
       "    }\n",
       "\n",
       "    .dataframe thead th {\n",
       "        text-align: right;\n",
       "    }\n",
       "</style>\n",
       "<table border=\"1\" class=\"dataframe\">\n",
       "  <thead>\n",
       "    <tr style=\"text-align: right;\">\n",
       "      <th></th>\n",
       "      <th>RESTAURANT_ID</th>\n",
       "      <th>RESTAURANT_NAME</th>\n",
       "      <th>WEEK_DAY</th>\n",
       "      <th>OPENING_HOUR</th>\n",
       "      <th>CLOSING_HOUR</th>\n",
       "    </tr>\n",
       "  </thead>\n",
       "  <tbody>\n",
       "  </tbody>\n",
       "</table>\n",
       "</div>"
      ],
      "text/plain": [
       "Empty DataFrame\n",
       "Columns: [RESTAURANT_ID, RESTAURANT_NAME, WEEK_DAY, OPENING_HOUR, CLOSING_HOUR]\n",
       "Index: []"
      ]
     },
     "execution_count": 75,
     "metadata": {},
     "output_type": "execute_result"
    }
   ],
   "source": [
    "OH_columns = {\n",
    "    \"RESTAURANT_ID\": [],\n",
    "    \"RESTAURANT_NAME\": [],\n",
    "    \"WEEK_DAY\": [],\n",
    "    \"OPENING_HOUR\": [],\n",
    "    \"CLOSING_HOUR\": []\n",
    "}\n",
    "\n",
    "df_OPENING_HOURS = pd.DataFrame(OH_columns)\n",
    "df_OPENING_HOURS"
   ]
  },
  {
   "cell_type": "code",
   "execution_count": 76,
   "metadata": {},
   "outputs": [
    {
     "name": "stdout",
     "output_type": "stream",
     "text": [
      "Xico Balaio\n",
      "Xico Balaio Asinhas de frango com provolone com tempero.\n",
      "Endereço: \n",
      "Endereço: Av Altamiro avelino Soares 920 – Castelo, Belo Horizonte – MG\n",
      "Telefone: \n",
      "Telefone: 31993643195\n",
      "Horario: \n",
      "Horario: Terça, das 17h à 0h | Quarta, das 17h à 0h | Quinta, das 17h à 0h | Sexta, das 17h à 0h | Sábado, das 17h à 0h | Domingo, das 11h às 18h |\n"
     ]
    }
   ],
   "source": [
    "req = requests.get('https://comidadibuteco.com.br/buteco/xico-do-churrasco/')\n",
    "sp = BeautifulSoup(req.text, 'html.parser')\n",
    "\n",
    "title = sp.find('h1', class_='section-title')\n",
    "restaurant_name = title.text\n",
    "\n",
    "section_text = sp.find('div', class_='section-text')\n",
    "sections = section_text.find_all('p')\n",
    "\n",
    "for section in sections:\n",
    "    section_title = section.find('b').text\n",
    "    print(section_title)\n",
    "    print(section.text)\n"
   ]
  },
  {
   "cell_type": "code",
   "execution_count": 77,
   "metadata": {},
   "outputs": [],
   "source": [
    "count = 0\n",
    "\n",
    "for link in restaurants_links:\n",
    "\n",
    "    count += 1\n",
    "\n",
    "    rest_id = f'CDB00{count}'\n",
    "\n",
    "    restaurant_page = requests.get(link)\n",
    "    html_restaurant_page = BeautifulSoup(restaurant_page.text, 'html.parser')\n",
    "\n",
    "    title = html_restaurant_page.find('h1', class_='section-title')\n",
    "    restaurant_name = title.text\n",
    "\n",
    "    section_text = html_restaurant_page.find('div', class_='section-text')\n",
    "    sections = section_text.find_all('p')\n",
    "\n",
    "    address = None\n",
    "    complement = None\n",
    "    main_dish = None\n",
    "    main_dish_desc = None\n",
    "    opening_hours = None\n",
    "    phone_number = None\n",
    "\n",
    "    for section in sections:\n",
    "\n",
    "        section_title = section.find('b').text\n",
    "\n",
    "        match section_title:\n",
    "            case 'Endereço: ':\n",
    "                address = section.text.replace('Endereço: ', '').strip()\n",
    "            case 'Complemento: ':\n",
    "                complement = section.text.replace('Complemento: ', '').strip()\n",
    "            case 'Telefone: ':\n",
    "                phone_number = section.text.replace('Telefone: ', '').strip()\n",
    "            case 'Horario: ':\n",
    "                opening_hours = section.text.replace('Horario: ', '').strip()\n",
    "            case _:\n",
    "                main_dish = section_title.strip()\n",
    "                main_dish_desc = section.text.replace(main_dish, '', 1).strip()\n",
    "\n",
    "    try:\n",
    "        if '|' in address:\n",
    "            street_name = address.split('|')[0].split(',')[0].strip()\n",
    "            est_number = address.split('|')[0].split(',')[1].strip()\n",
    "            neighborhood = address.split('|')[1].split(',')[0].strip()\n",
    "            city = address.split('|')[1].split(',')[1].split('–')[0].strip()\n",
    "            state = address.split('|')[1].split(',')[1].split('–')[1].strip()\n",
    "        else:\n",
    "            street_name = address.split(',')[0].strip()\n",
    "            est_number = address.split(',')[1].strip()\n",
    "            neighborhood = None\n",
    "            city = address.split(',')[2].split('–')[0].strip()\n",
    "            state = address.split(',')[2].split('–')[1].strip()\n",
    "    except:\n",
    "        street_name = None\n",
    "        est_number = None\n",
    "        neighborhood = None\n",
    "        city = None\n",
    "        state = None\n",
    "\n",
    "                \n",
    "    new_element_MAIN = {\n",
    "        \"RESTAURANT_ID\": rest_id,\n",
    "        \"RESTAURANT_NAME\": restaurant_name,\n",
    "        \"MAIN_DISH\": main_dish,\n",
    "        \"MAIN_DISH_DESC\": main_dish_desc,\n",
    "        \"STREET_NAME\": street_name,\n",
    "        \"EST_NUMBER\": est_number,\n",
    "        \"NEIGHBORHOOD\": neighborhood,\n",
    "        \"CITY\": city,\n",
    "        \"STATE\": state,\n",
    "        \"COMPLEMENT\": complement,\n",
    "        \"PHONE_NUMBER\": phone_number\n",
    "    }\n",
    "\n",
    "    df_MAIN.loc[len(df_MAIN)] = new_element_MAIN\n",
    "\n",
    "    # HOURS\n",
    "    hours_list = opening_hours.split('|')\n",
    "    hours_list = [string for string in hours_list if string != '']\n",
    "\n",
    "    for hour in hours_list:\n",
    "\n",
    "        if 'SEGUNDA' in hour.upper():\n",
    "            week_day = 'Segunda-Feira'\n",
    "        elif 'TERÇA' in hour.upper():\n",
    "            week_day = 'Terça-Feira'\n",
    "        elif 'QUARTA' in hour.upper():\n",
    "            week_day = 'Quarta-Feira'\n",
    "        elif 'QUINTA' in hour.upper():\n",
    "            week_day = 'Quinta-Feira'\n",
    "        elif 'SEXTA' in hour.upper():\n",
    "            week_day = 'Sexta-Feira'\n",
    "        elif 'SÁBADO' in hour.upper() or 'SABADO' in hour.upper():\n",
    "            week_day = 'Sábado'\n",
    "        elif 'DOMINGO' in hour.upper():\n",
    "            week_day = 'Domingo'\n",
    "        else:\n",
    "            print(restaurant_name)\n",
    "            print(hour)\n",
    "            raise('ERRO AO EXTRAIR DIA DA SEMANA!')\n",
    "        \n",
    "        try:\n",
    "            opening_hour, closing_hour = extract_hour(hour)\n",
    "        except:\n",
    "            print(restaurant_name)\n",
    "            print(hour)\n",
    "            raise('ERRO AO EXTRAIR A HORA!')\n",
    "        \n",
    "\n",
    "        new_element_OH = {\n",
    "            \"RESTAURANT_ID\": rest_id,\n",
    "            \"RESTAURANT_NAME\": restaurant_name,\n",
    "            \"WEEK_DAY\": week_day,\n",
    "            \"OPENING_HOUR\": opening_hour,\n",
    "            \"CLOSING_HOUR\": closing_hour\n",
    "        }\n",
    "\n",
    "        df_OPENING_HOURS.loc[len(df_OPENING_HOURS)] = new_element_OH"
   ]
  },
  {
   "cell_type": "code",
   "execution_count": 78,
   "metadata": {},
   "outputs": [],
   "source": [
    "df_MAIN.to_excel('../data_bases/restaurants.xlsx', index=False, sheet_name='RESTAURANTS')"
   ]
  },
  {
   "cell_type": "code",
   "execution_count": 79,
   "metadata": {},
   "outputs": [],
   "source": [
    "df_OPENING_HOURS.to_excel('../data_bases/opening_hours.xlsx', index=False, sheet_name='OPENING_HOURS')"
   ]
  }
 ],
 "metadata": {
  "kernelspec": {
   "display_name": ".venv",
   "language": "python",
   "name": "python3"
  },
  "language_info": {
   "codemirror_mode": {
    "name": "ipython",
    "version": 3
   },
   "file_extension": ".py",
   "mimetype": "text/x-python",
   "name": "python",
   "nbconvert_exporter": "python",
   "pygments_lexer": "ipython3",
   "version": "3.12.5"
  }
 },
 "nbformat": 4,
 "nbformat_minor": 2
}
