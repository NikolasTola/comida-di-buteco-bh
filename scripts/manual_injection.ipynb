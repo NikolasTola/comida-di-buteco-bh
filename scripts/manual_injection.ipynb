{
 "cells": [
  {
   "cell_type": "markdown",
   "metadata": {},
   "source": [
    "### Manual Injection\n",
    "#### Because this data is in inconsistent formats\n",
    "\n",
    "CDB0016:\n",
    "- NEIGHBORHOOD = Álvaro Camargos\n",
    "\n",
    "CDB00123:\n",
    "- STREET_NAME = Av Altamiro avelino Soares\n",
    "- EST_NUMBER = 920\n",
    "- NEIGHBORHOOD = Castelo\n",
    "- CITY = Belo Horizonte\n",
    "- STATE = MG"
   ]
  },
  {
   "cell_type": "code",
   "execution_count": 12,
   "metadata": {},
   "outputs": [],
   "source": [
    "import pandas as pd"
   ]
  },
  {
   "cell_type": "code",
   "execution_count": 13,
   "metadata": {},
   "outputs": [],
   "source": [
    "data_frame = pd.read_excel('../data_bases/restaurants.xlsx')"
   ]
  },
  {
   "cell_type": "code",
   "execution_count": 14,
   "metadata": {},
   "outputs": [],
   "source": [
    "# data_frame.loc[15]\n",
    "data_frame.loc[data_frame['RESTAURANT_ID'] == 'CDB0016', 'NEIGHBORHOOD'] = 'Álvaro Camargos'"
   ]
  },
  {
   "cell_type": "code",
   "execution_count": 15,
   "metadata": {},
   "outputs": [],
   "source": [
    "# data_frame.loc[122]\n",
    "data_frame.loc[data_frame['RESTAURANT_ID'] == 'CDB00123', 'STREET_NAME']  = 'Av Altamiro avelino Soares'\n",
    "data_frame.loc[data_frame['RESTAURANT_ID'] == 'CDB00123', 'EST_NUMBER']   = '920'\n",
    "data_frame.loc[data_frame['RESTAURANT_ID'] == 'CDB00123', 'NEIGHBORHOOD'] = 'Castelo'\n",
    "data_frame.loc[data_frame['RESTAURANT_ID'] == 'CDB00123', 'CITY']  = 'Belo Horizonte'\n",
    "data_frame.loc[data_frame['RESTAURANT_ID'] == 'CDB00123', 'STATE']  = 'MG'"
   ]
  },
  {
   "cell_type": "code",
   "execution_count": 16,
   "metadata": {},
   "outputs": [],
   "source": [
    "data_frame.to_excel('../data_bases/restaurants.xlsx', index=False, sheet_name='RESTAURANTS')"
   ]
  }
 ],
 "metadata": {
  "kernelspec": {
   "display_name": ".venv",
   "language": "python",
   "name": "python3"
  },
  "language_info": {
   "codemirror_mode": {
    "name": "ipython",
    "version": 3
   },
   "file_extension": ".py",
   "mimetype": "text/x-python",
   "name": "python",
   "nbconvert_exporter": "python",
   "pygments_lexer": "ipython3",
   "version": "3.12.5"
  }
 },
 "nbformat": 4,
 "nbformat_minor": 2
}
